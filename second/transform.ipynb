{
 "cells": [
  {
   "cell_type": "code",
   "execution_count": 1,
   "source": [
    "import torch\n",
    "from torchvision  import datasets\n",
    "from torchvision.transforms import ToTensor, Lambda\n",
    "# 학습을 하려면 정규화된 텐서 형태의 특징과 원-핫으로 부호화된 텐서 형태의 label이 필요하다.\n",
    "# 이를 위해서 ToTensor, Lambda를 사용함 \n",
    "ds = datasets.FashionMNIST(\n",
    "    root=\"data\",\n",
    "    train=True,\n",
    "    download=True,\n",
    "\n",
    "    # PIL image나 numpy ndarray를 floatTensor로 변환하고, 이미지의 픽셀의 크기값을 [0.,1.] 범위로 비례하여 조정\n",
    "    transform =ToTensor(),\n",
    "    # Lambda 변형은 정수를 원-핫으로 부호화된 텐서로 바꾸는 함수를 정의함.\n",
    "    # 크기 10짜리 영 텐서를 만들고, scatter_를 호출하여 주어진 정답 y에 해당하는 인덱스에 value =1을 할당\n",
    "    target_transform=Lambda(lambda y: torch.zeros(10, dtype = torch.float).scatter_(0, torch.tensor(y), value =1))\n",
    "\n",
    ")"
   ],
   "outputs": [],
   "metadata": {}
  },
  {
   "cell_type": "code",
   "execution_count": 2,
   "source": [
    "ds"
   ],
   "outputs": [
    {
     "output_type": "execute_result",
     "data": {
      "text/plain": [
       "Dataset FashionMNIST\n",
       "    Number of datapoints: 60000\n",
       "    Root location: data\n",
       "    Split: Train\n",
       "    StandardTransform\n",
       "Transform: ToTensor()\n",
       "Target transform: Lambda()"
      ]
     },
     "metadata": {},
     "execution_count": 2
    }
   ],
   "metadata": {}
  }
 ],
 "metadata": {
  "orig_nbformat": 4,
  "language_info": {
   "name": "python",
   "version": "3.8.12",
   "mimetype": "text/x-python",
   "codemirror_mode": {
    "name": "ipython",
    "version": 3
   },
   "pygments_lexer": "ipython3",
   "nbconvert_exporter": "python",
   "file_extension": ".py"
  },
  "kernelspec": {
   "name": "python3",
   "display_name": "Python 3.8.8 64-bit ('base': conda)"
  },
  "interpreter": {
   "hash": "a721ca5c4bfd00a5c386d602c2b2aa589cdc03e44354db2ead110409b536b245"
  }
 },
 "nbformat": 4,
 "nbformat_minor": 2
}