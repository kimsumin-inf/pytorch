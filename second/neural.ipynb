{
 "cells": [
  {
   "cell_type": "code",
   "execution_count": 1,
   "source": [
    "import os\n",
    "import torch\n",
    "from torch import nn\n",
    "from torch.utils.data import DataLoader\n",
    "from torchvision import datasets, transforms\n"
   ],
   "outputs": [],
   "metadata": {}
  },
  {
   "cell_type": "code",
   "execution_count": 2,
   "source": [
    "device ='cuda' if torch.cuda.is_available() else 'cpu'\n",
    "print(device)"
   ],
   "outputs": [
    {
     "output_type": "stream",
     "name": "stdout",
     "text": [
      "cuda\n"
     ]
    }
   ],
   "metadata": {}
  },
  {
   "cell_type": "code",
   "execution_count": 3,
   "source": [
    "class NeuralNetwork(nn.Module):\n",
    "    def __init__(self):\n",
    "        super(NeuralNetwork, self).__init__()\n",
    "        # nn.flatten : 계층을 초기화하여 각 28*28의 2D 이미지를 784 픽셀 값을 갖는 연속된 배열로 변환\n",
    "        self.flatten = nn.Flatten()\n",
    "        # nn.Sequential : 순서를 갖는 모듈의 컨테이너, 정의된 것과 같은 순서로 모든 모듈들을 통해 전달됨\n",
    "        self.linear_relu_stack = nn.Sequential(\n",
    "            # nn.Linear : 저장된 가중치(weights)와 편향(bias)을 사용하여 입력에 선형 변환을 적용하는 모듈\n",
    "            nn.Linear(28*28,512),\n",
    "            nn.ReLU(),\n",
    "            nn.Linear(512,512),\n",
    "            nn.ReLU(),\n",
    "            nn.Linear(512,10),\n",
    "            nn.ReLU(),\n",
    "\n",
    "        )\n",
    "    def forward(self,x):\n",
    "        x = self.flatten(x)\n",
    "        logits = self.linear_relu_stack(x)\n",
    "        return logits\n"
   ],
   "outputs": [],
   "metadata": {}
  },
  {
   "cell_type": "code",
   "execution_count": 4,
   "source": [
    "model = NeuralNetwork().to(device)\n",
    "print(model)"
   ],
   "outputs": [
    {
     "output_type": "stream",
     "name": "stdout",
     "text": [
      "NeuralNetwork(\n",
      "  (flatten): Flatten(start_dim=1, end_dim=-1)\n",
      "  (linear_relu_stack): Sequential(\n",
      "    (0): Linear(in_features=784, out_features=512, bias=True)\n",
      "    (1): ReLU()\n",
      "    (2): Linear(in_features=512, out_features=512, bias=True)\n",
      "    (3): ReLU()\n",
      "    (4): Linear(in_features=512, out_features=10, bias=True)\n",
      "    (5): ReLU()\n",
      "  )\n",
      ")\n"
     ]
    }
   ],
   "metadata": {}
  },
  {
   "cell_type": "code",
   "execution_count": 31,
   "source": [
    "X = torch.rand(1,28,28,device=device)\n",
    "logits = model(X)\n",
    "# nn.Softmax : [-infty, infty] 범위의 원시 값인 logits를 반환, logits는 각 분류에 대한 예측 확률을 나타내도록 [0,1] 범위로 비례하여 조정됩니다.\n",
    "# dim 매개변수는 값의 합이 1이 되는 차원을 나타냅니다.\n",
    "pred_probab = nn.Softmax(dim=1)(logits)\n",
    "y_pred = pred_probab.argmax(1)\n",
    "print(y_pred)\n"
   ],
   "outputs": [
    {
     "output_type": "stream",
     "name": "stdout",
     "text": [
      "tensor([9], device='cuda:0')\n"
     ]
    }
   ],
   "metadata": {}
  },
  {
   "cell_type": "code",
   "execution_count": 32,
   "source": [
    "input_image = torch.rand(3,28,28)\n",
    "print(input_image.size())"
   ],
   "outputs": [
    {
     "output_type": "stream",
     "name": "stdout",
     "text": [
      "torch.Size([3, 28, 28])\n"
     ]
    }
   ],
   "metadata": {}
  },
  {
   "cell_type": "code",
   "execution_count": 34,
   "source": [
    "flatten = nn.Flatten()\n",
    "flat_image = flatten(input_image)\n",
    "print(flat_image.size())\n"
   ],
   "outputs": [
    {
     "output_type": "stream",
     "name": "stdout",
     "text": [
      "torch.Size([3, 784])\n"
     ]
    }
   ],
   "metadata": {}
  },
  {
   "cell_type": "code",
   "execution_count": 39,
   "source": [
    "layer1= nn.Linear(in_features=28*28, out_features=20)\n",
    "print(layer1)\n",
    "hidden1 = layer1(flat_image)\n",
    "print(hidden1.size())"
   ],
   "outputs": [
    {
     "output_type": "stream",
     "name": "stdout",
     "text": [
      "Linear(in_features=784, out_features=20, bias=True)\n",
      "torch.Size([3, 20])\n"
     ]
    }
   ],
   "metadata": {}
  },
  {
   "cell_type": "code",
   "execution_count": 40,
   "source": [
    "print(hidden1)\n",
    "hidden1 = nn.ReLU()(hidden1)\n",
    "print(hidden1)"
   ],
   "outputs": [
    {
     "output_type": "stream",
     "name": "stdout",
     "text": [
      "tensor([[-0.0646,  0.1130, -0.3668,  0.1389, -0.2489, -0.1643, -0.6580,  0.1363,\n",
      "          0.0404, -0.5888,  0.0356, -0.0734, -0.0793,  0.4106,  0.0047, -0.4806,\n",
      "         -0.0192, -0.2542, -0.1858,  0.2267],\n",
      "        [-0.3355, -0.1899, -0.0873,  0.1058, -0.0967, -0.4359, -0.4994, -0.1120,\n",
      "          0.0045, -0.4296, -0.1654, -0.2725, -0.0208,  0.2064,  0.4164, -0.2841,\n",
      "          0.0816, -0.4417,  0.1853, -0.1194],\n",
      "        [-0.1119,  0.1023, -0.1721,  0.2667, -0.4029, -0.4360, -0.6732,  0.1995,\n",
      "          0.1464, -0.3699,  0.0470, -0.0972, -0.0007,  0.1473,  0.2630, -0.3249,\n",
      "         -0.0272, -0.1093, -0.2946, -0.2785]], grad_fn=<AddmmBackward0>)\n",
      "tensor([[0.0000, 0.1130, 0.0000, 0.1389, 0.0000, 0.0000, 0.0000, 0.1363, 0.0404,\n",
      "         0.0000, 0.0356, 0.0000, 0.0000, 0.4106, 0.0047, 0.0000, 0.0000, 0.0000,\n",
      "         0.0000, 0.2267],\n",
      "        [0.0000, 0.0000, 0.0000, 0.1058, 0.0000, 0.0000, 0.0000, 0.0000, 0.0045,\n",
      "         0.0000, 0.0000, 0.0000, 0.0000, 0.2064, 0.4164, 0.0000, 0.0816, 0.0000,\n",
      "         0.1853, 0.0000],\n",
      "        [0.0000, 0.1023, 0.0000, 0.2667, 0.0000, 0.0000, 0.0000, 0.1995, 0.1464,\n",
      "         0.0000, 0.0470, 0.0000, 0.0000, 0.1473, 0.2630, 0.0000, 0.0000, 0.0000,\n",
      "         0.0000, 0.0000]], grad_fn=<ReluBackward0>)\n"
     ]
    }
   ],
   "metadata": {}
  },
  {
   "cell_type": "code",
   "execution_count": 42,
   "source": [
    "seq = nn.Sequential(\n",
    "    flatten, layer1, nn.ReLU(),nn.Linear(20,10)\n",
    ")\n",
    "input_image = torch.rand(3,28,28)\n",
    "logits = seq(input_image)"
   ],
   "outputs": [],
   "metadata": {}
  },
  {
   "cell_type": "code",
   "execution_count": 43,
   "source": [
    "logits"
   ],
   "outputs": [
    {
     "output_type": "execute_result",
     "data": {
      "text/plain": [
       "tensor([[-0.0270,  0.0833,  0.1634, -0.0961,  0.0361,  0.0052, -0.2553, -0.1374,\n",
       "         -0.1107,  0.2284],\n",
       "        [ 0.0415,  0.1113,  0.2655, -0.1363,  0.1100,  0.0056, -0.2988, -0.2807,\n",
       "         -0.0636,  0.1316],\n",
       "        [ 0.0932,  0.1542,  0.1972, -0.1027,  0.0642, -0.0396, -0.2530, -0.2225,\n",
       "         -0.0834,  0.1930]], grad_fn=<AddmmBackward0>)"
      ]
     },
     "metadata": {},
     "execution_count": 43
    }
   ],
   "metadata": {}
  },
  {
   "cell_type": "code",
   "execution_count": null,
   "source": [],
   "outputs": [],
   "metadata": {}
  }
 ],
 "metadata": {
  "orig_nbformat": 4,
  "language_info": {
   "name": "python",
   "version": "3.8.12",
   "mimetype": "text/x-python",
   "codemirror_mode": {
    "name": "ipython",
    "version": 3
   },
   "pygments_lexer": "ipython3",
   "nbconvert_exporter": "python",
   "file_extension": ".py"
  },
  "kernelspec": {
   "name": "python3",
   "display_name": "Python 3.8.8 64-bit ('base': conda)"
  },
  "interpreter": {
   "hash": "a721ca5c4bfd00a5c386d602c2b2aa589cdc03e44354db2ead110409b536b245"
  }
 },
 "nbformat": 4,
 "nbformat_minor": 2
}