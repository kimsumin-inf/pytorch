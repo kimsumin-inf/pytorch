{
 "cells": [
  {
   "cell_type": "code",
   "execution_count": 2,
   "source": [
    "import torch\n",
    "import numpy as np\n",
    "import matplotlib.pyplot as plt"
   ],
   "outputs": [],
   "metadata": {}
  },
  {
   "cell_type": "code",
   "execution_count": 4,
   "source": [
    "data = [[1, 2],[3, 4]]\n",
    "x_data = torch.tensor(data)\n",
    "x_data "
   ],
   "outputs": [
    {
     "output_type": "execute_result",
     "data": {
      "text/plain": [
       "tensor([[1, 2],\n",
       "        [3, 4]])"
      ]
     },
     "metadata": {},
     "execution_count": 4
    }
   ],
   "metadata": {}
  },
  {
   "cell_type": "code",
   "execution_count": 10,
   "source": [
    "np_array = np.array(data)\n",
    "print(np_array)\n",
    "x_np = torch.from_numpy(np_array)\n",
    "print(x_np)"
   ],
   "outputs": [
    {
     "output_type": "stream",
     "name": "stdout",
     "text": [
      "[[1 2]\n",
      " [3 4]]\n",
      "tensor([[1, 2],\n",
      "        [3, 4]])\n"
     ]
    }
   ],
   "metadata": {}
  },
  {
   "cell_type": "code",
   "execution_count": 11,
   "source": [
    "x_ones = torch.ones_like(x_data)\n",
    "print(x_ones)\n",
    "\n",
    "x_rand= torch.rand_like(x_data,dtype=torch.float64)\n",
    "print(x_rand)"
   ],
   "outputs": [
    {
     "output_type": "stream",
     "name": "stdout",
     "text": [
      "tensor([[1, 1],\n",
      "        [1, 1]])\n",
      "tensor([[0.5188, 0.4497],\n",
      "        [0.5925, 0.7458]], dtype=torch.float64)\n"
     ]
    }
   ],
   "metadata": {}
  },
  {
   "cell_type": "code",
   "execution_count": 12,
   "source": [
    "shape = (2,3,)\n",
    "rand_tensor = torch.rand(shape)\n",
    "ones_tensor = torch.ones(shape)\n",
    "zeros_tensor = torch.zeros(shape)\n",
    "\n",
    "print(f\"Random Tensor: \\n {rand_tensor} \\n\")\n",
    "print(f\"Ones Tensor: \\n {ones_tensor} \\n\")\n",
    "print(f\"Zeros Tensor: \\n {zeros_tensor}\")\n"
   ],
   "outputs": [
    {
     "output_type": "stream",
     "name": "stdout",
     "text": [
      "Random Tensor: \n",
      " tensor([[0.7273, 0.8909, 0.2253],\n",
      "        [0.3375, 0.4001, 0.2837]]) \n",
      "\n",
      "Ones Tensor: \n",
      " tensor([[1., 1., 1.],\n",
      "        [1., 1., 1.]]) \n",
      "\n",
      "Zeros Tensor: \n",
      " tensor([[0., 0., 0.],\n",
      "        [0., 0., 0.]])\n"
     ]
    }
   ],
   "metadata": {}
  },
  {
   "cell_type": "code",
   "execution_count": 13,
   "source": [
    "tensor = torch.rand(3,4)\n",
    "\n",
    "print(f\"Shape of tensor: {tensor.shape}\")\n",
    "print(f\"Datatype of tensor: {tensor.dtype}\")\n",
    "print(f\"Device tensor is stored on: {tensor.device}\")"
   ],
   "outputs": [
    {
     "output_type": "stream",
     "name": "stdout",
     "text": [
      "Shape of tensor: torch.Size([3, 4])\n",
      "Datatype of tensor: torch.float32\n",
      "Device tensor is stored on: cpu\n"
     ]
    }
   ],
   "metadata": {}
  },
  {
   "cell_type": "code",
   "execution_count": 15,
   "source": [
    "if torch.cuda.is_available():\n",
    "    tensor= tensor.to('cuda')\n",
    "\n",
    "    "
   ],
   "outputs": [],
   "metadata": {}
  },
  {
   "cell_type": "code",
   "execution_count": 16,
   "source": [
    "tensor[:,1] = 0\n",
    "print(tensor)"
   ],
   "outputs": [
    {
     "output_type": "stream",
     "name": "stdout",
     "text": [
      "tensor([[0.3648, 0.0000, 0.4649, 0.1377],\n",
      "        [0.0366, 0.0000, 0.5773, 0.3359],\n",
      "        [0.1240, 0.0000, 0.2722, 0.4524]], device='cuda:0')\n"
     ]
    }
   ],
   "metadata": {}
  },
  {
   "cell_type": "code",
   "execution_count": 17,
   "source": [
    "t1 = torch.cat([tensor,tensor,tensor],dim=1)\n",
    "print(t1)"
   ],
   "outputs": [
    {
     "output_type": "stream",
     "name": "stdout",
     "text": [
      "tensor([[0.3648, 0.0000, 0.4649, 0.1377, 0.3648, 0.0000, 0.4649, 0.1377, 0.3648,\n",
      "         0.0000, 0.4649, 0.1377],\n",
      "        [0.0366, 0.0000, 0.5773, 0.3359, 0.0366, 0.0000, 0.5773, 0.3359, 0.0366,\n",
      "         0.0000, 0.5773, 0.3359],\n",
      "        [0.1240, 0.0000, 0.2722, 0.4524, 0.1240, 0.0000, 0.2722, 0.4524, 0.1240,\n",
      "         0.0000, 0.2722, 0.4524]], device='cuda:0')\n"
     ]
    }
   ],
   "metadata": {}
  },
  {
   "cell_type": "code",
   "execution_count": 22,
   "source": [
    "# 행렬 곱\n",
    "y1 = tensor @ tensor.T\n",
    "y2 = tensor.matmul(tensor.T)\n",
    "y3 = torch.rand_like(tensor)\n",
    "\n",
    "torch.matmul(tensor, tensor.T, out=y3)\n",
    "print(y1)\n",
    "print(y2)\n",
    "print(y3)\n",
    "print(tensor)"
   ],
   "outputs": [
    {
     "output_type": "stream",
     "name": "stdout",
     "text": [
      "tensor([[0.3681, 0.3279, 0.2341],\n",
      "        [0.3279, 0.4473, 0.3136],\n",
      "        [0.2341, 0.3136, 0.2941]], device='cuda:0')\n",
      "tensor([[0.3681, 0.3279, 0.2341],\n",
      "        [0.3279, 0.4473, 0.3136],\n",
      "        [0.2341, 0.3136, 0.2941]], device='cuda:0')\n",
      "tensor([[0.3681, 0.3279, 0.2341],\n",
      "        [0.3279, 0.4473, 0.3136],\n",
      "        [0.2341, 0.3136, 0.2941]], device='cuda:0')\n",
      "tensor([[0.3648, 0.0000, 0.4649, 0.1377],\n",
      "        [0.0366, 0.0000, 0.5773, 0.3359],\n",
      "        [0.1240, 0.0000, 0.2722, 0.4524]], device='cuda:0')\n"
     ]
    },
    {
     "output_type": "stream",
     "name": "stderr",
     "text": [
      "/tmp/ipykernel_11130/1949155730.py:5: UserWarning: An output with one or more elements was resized since it had shape [3, 4], which does not match the required output shape [3, 3].This behavior is deprecated, and in a future PyTorch release outputs will not be resized unless they have zero elements. You can explicitly reuse an out tensor t by resizing it, inplace, to zero elements with t.resize_(0). (Triggered internally at  /opt/conda/conda-bld/pytorch_1634272068694/work/aten/src/ATen/native/Resize.cpp:23.)\n",
      "  torch.matmul(tensor, tensor.T, out=y3)\n"
     ]
    }
   ],
   "metadata": {}
  },
  {
   "cell_type": "code",
   "execution_count": 23,
   "source": [
    "z1 = tensor * tensor \n",
    "print(z1)\n",
    "z2 = tensor.mul(tensor)\n",
    "print(z2)\n",
    "z3=torch.rand_like(tensor)\n",
    "print(z3)\n",
    "torch.mul(tensor, tensor, out=z3)\n",
    "\n"
   ],
   "outputs": [
    {
     "output_type": "stream",
     "name": "stdout",
     "text": [
      "tensor([[0.1331, 0.0000, 0.2161, 0.0190],\n",
      "        [0.0013, 0.0000, 0.3332, 0.1128],\n",
      "        [0.0154, 0.0000, 0.0741, 0.2046]], device='cuda:0')\n",
      "tensor([[0.1331, 0.0000, 0.2161, 0.0190],\n",
      "        [0.0013, 0.0000, 0.3332, 0.1128],\n",
      "        [0.0154, 0.0000, 0.0741, 0.2046]], device='cuda:0')\n",
      "tensor([[0.7194, 0.7148, 0.5007, 0.0875],\n",
      "        [0.8376, 0.2766, 0.0569, 0.5834],\n",
      "        [0.5780, 0.7049, 0.4978, 0.0477]], device='cuda:0')\n"
     ]
    },
    {
     "output_type": "execute_result",
     "data": {
      "text/plain": [
       "tensor([[0.1331, 0.0000, 0.2161, 0.0190],\n",
       "        [0.0013, 0.0000, 0.3332, 0.1128],\n",
       "        [0.0154, 0.0000, 0.0741, 0.2046]], device='cuda:0')"
      ]
     },
     "metadata": {},
     "execution_count": 23
    }
   ],
   "metadata": {}
  },
  {
   "cell_type": "code",
   "execution_count": 24,
   "source": [
    "agg = tensor.sum()\n",
    "agg_item = agg.item()\n",
    "print(agg_item, type(agg_item))"
   ],
   "outputs": [
    {
     "output_type": "stream",
     "name": "stdout",
     "text": [
      "2.7656161785125732 <class 'float'>\n"
     ]
    }
   ],
   "metadata": {}
  },
  {
   "cell_type": "code",
   "execution_count": 25,
   "source": [
    "print(tensor, \"\\n\")\n",
    "tensor.add_(5)\n",
    "print(tensor)"
   ],
   "outputs": [
    {
     "output_type": "stream",
     "name": "stdout",
     "text": [
      "tensor([[0.3648, 0.0000, 0.4649, 0.1377],\n",
      "        [0.0366, 0.0000, 0.5773, 0.3359],\n",
      "        [0.1240, 0.0000, 0.2722, 0.4524]], device='cuda:0') \n",
      "\n",
      "tensor([[5.3648, 5.0000, 5.4649, 5.1377],\n",
      "        [5.0366, 5.0000, 5.5773, 5.3359],\n",
      "        [5.1240, 5.0000, 5.2722, 5.4524]], device='cuda:0')\n"
     ]
    }
   ],
   "metadata": {}
  },
  {
   "cell_type": "code",
   "execution_count": 26,
   "source": [
    "t= torch.ones(5)\n",
    "print(t)\n",
    "\n",
    "n = t.numpy()\n",
    "print(n)"
   ],
   "outputs": [
    {
     "output_type": "stream",
     "name": "stdout",
     "text": [
      "tensor([1., 1., 1., 1., 1.])\n",
      "[1. 1. 1. 1. 1.]\n"
     ]
    }
   ],
   "metadata": {}
  },
  {
   "cell_type": "code",
   "execution_count": 27,
   "source": [
    "t.add_(1)\n",
    "print(t,\"\\n\",n)"
   ],
   "outputs": [
    {
     "output_type": "stream",
     "name": "stdout",
     "text": [
      "tensor([2., 2., 2., 2., 2.]) \n",
      " [2. 2. 2. 2. 2.]\n"
     ]
    }
   ],
   "metadata": {}
  }
 ],
 "metadata": {
  "orig_nbformat": 4,
  "language_info": {
   "name": "python",
   "version": "3.8.12",
   "mimetype": "text/x-python",
   "codemirror_mode": {
    "name": "ipython",
    "version": 3
   },
   "pygments_lexer": "ipython3",
   "nbconvert_exporter": "python",
   "file_extension": ".py"
  },
  "kernelspec": {
   "name": "python3",
   "display_name": "Python 3.8.8 64-bit ('base': conda)"
  },
  "interpreter": {
   "hash": "a721ca5c4bfd00a5c386d602c2b2aa589cdc03e44354db2ead110409b536b245"
  }
 },
 "nbformat": 4,
 "nbformat_minor": 2
}